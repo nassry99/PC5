{
 "cells": [
  {
   "cell_type": "markdown",
   "metadata": {},
   "source": [
    "# Ejercicio - Busqueda de Alojamiento en Airbnb.\n",
    "\n",
    "Supongamos que somos un agente de [Airbnb](http://www.airbnb.com) localizado en Lisboa, y tenemos que atender peticiones de varios clientes. Tenemos un archivo llamado `airbnb.csv` (en la carpeta data) donde tenemos información de todos los alojamientos de Airbnb en Lisboa."
   ]
  },
  {
   "cell_type": "code",
   "execution_count": 5,
   "metadata": {},
   "outputs": [],
   "source": [
    "import pandas as pd\n",
    "df_airbnb = pd.read_csv(\"./data/airbnb.csv\")"
   ]
  },
  {
   "cell_type": "code",
   "execution_count": 6,
   "metadata": {},
   "outputs": [
    {
     "data": {
      "text/html": [
       "<div>\n",
       "<style scoped>\n",
       "    .dataframe tbody tr th:only-of-type {\n",
       "        vertical-align: middle;\n",
       "    }\n",
       "\n",
       "    .dataframe tbody tr th {\n",
       "        vertical-align: top;\n",
       "    }\n",
       "\n",
       "    .dataframe thead th {\n",
       "        text-align: right;\n",
       "    }\n",
       "</style>\n",
       "<table border=\"1\" class=\"dataframe\">\n",
       "  <thead>\n",
       "    <tr style=\"text-align: right;\">\n",
       "      <th></th>\n",
       "      <th>room_id</th>\n",
       "      <th>host_id</th>\n",
       "      <th>room_type</th>\n",
       "      <th>neighborhood</th>\n",
       "      <th>reviews</th>\n",
       "      <th>overall_satisfaction</th>\n",
       "      <th>accommodates</th>\n",
       "      <th>bedrooms</th>\n",
       "      <th>price</th>\n",
       "    </tr>\n",
       "  </thead>\n",
       "  <tbody>\n",
       "    <tr>\n",
       "      <th>0</th>\n",
       "      <td>6499</td>\n",
       "      <td>14455</td>\n",
       "      <td>Entire home/apt</td>\n",
       "      <td>Belém</td>\n",
       "      <td>8</td>\n",
       "      <td>5.0</td>\n",
       "      <td>2</td>\n",
       "      <td>1.0</td>\n",
       "      <td>57.0</td>\n",
       "    </tr>\n",
       "    <tr>\n",
       "      <th>1</th>\n",
       "      <td>17031</td>\n",
       "      <td>66015</td>\n",
       "      <td>Entire home/apt</td>\n",
       "      <td>Alvalade</td>\n",
       "      <td>0</td>\n",
       "      <td>0.0</td>\n",
       "      <td>2</td>\n",
       "      <td>1.0</td>\n",
       "      <td>46.0</td>\n",
       "    </tr>\n",
       "    <tr>\n",
       "      <th>2</th>\n",
       "      <td>25659</td>\n",
       "      <td>107347</td>\n",
       "      <td>Entire home/apt</td>\n",
       "      <td>Santa Maria Maior</td>\n",
       "      <td>63</td>\n",
       "      <td>5.0</td>\n",
       "      <td>3</td>\n",
       "      <td>1.0</td>\n",
       "      <td>69.0</td>\n",
       "    </tr>\n",
       "    <tr>\n",
       "      <th>3</th>\n",
       "      <td>29248</td>\n",
       "      <td>125768</td>\n",
       "      <td>Entire home/apt</td>\n",
       "      <td>Santa Maria Maior</td>\n",
       "      <td>225</td>\n",
       "      <td>4.5</td>\n",
       "      <td>4</td>\n",
       "      <td>1.0</td>\n",
       "      <td>58.0</td>\n",
       "    </tr>\n",
       "    <tr>\n",
       "      <th>4</th>\n",
       "      <td>29396</td>\n",
       "      <td>126415</td>\n",
       "      <td>Entire home/apt</td>\n",
       "      <td>Santa Maria Maior</td>\n",
       "      <td>132</td>\n",
       "      <td>5.0</td>\n",
       "      <td>4</td>\n",
       "      <td>1.0</td>\n",
       "      <td>67.0</td>\n",
       "    </tr>\n",
       "  </tbody>\n",
       "</table>\n",
       "</div>"
      ],
      "text/plain": [
       "   room_id  host_id        room_type       neighborhood  reviews  \\\n",
       "0     6499    14455  Entire home/apt              Belém        8   \n",
       "1    17031    66015  Entire home/apt           Alvalade        0   \n",
       "2    25659   107347  Entire home/apt  Santa Maria Maior       63   \n",
       "3    29248   125768  Entire home/apt  Santa Maria Maior      225   \n",
       "4    29396   126415  Entire home/apt  Santa Maria Maior      132   \n",
       "\n",
       "   overall_satisfaction  accommodates  bedrooms  price  \n",
       "0                   5.0             2       1.0   57.0  \n",
       "1                   0.0             2       1.0   46.0  \n",
       "2                   5.0             3       1.0   69.0  \n",
       "3                   4.5             4       1.0   58.0  \n",
       "4                   5.0             4       1.0   67.0  "
      ]
     },
     "execution_count": 6,
     "metadata": {},
     "output_type": "execute_result"
    }
   ],
   "source": [
    "df_airbnb.head()"
   ]
  },
  {
   "cell_type": "code",
   "execution_count": 7,
   "metadata": {},
   "outputs": [
    {
     "data": {
      "text/plain": [
       "room_id                   int64\n",
       "host_id                   int64\n",
       "room_type                object\n",
       "neighborhood             object\n",
       "reviews                   int64\n",
       "overall_satisfaction    float64\n",
       "accommodates              int64\n",
       "bedrooms                float64\n",
       "price                   float64\n",
       "dtype: object"
      ]
     },
     "execution_count": 7,
     "metadata": {},
     "output_type": "execute_result"
    }
   ],
   "source": [
    "df_airbnb.dtypes"
   ]
  },
  {
   "cell_type": "markdown",
   "metadata": {},
   "source": [
    "En concreto el dataset tiene las siguientes variables:\n",
    "- room_id: el identificador de la propiedad\n",
    "- host_id: el identificador del dueño de la propiedad\n",
    "- room_type: tipo de propiedad (vivienda completa/(habitacion para compartir/habitación privada)\n",
    "- neighborhood: el barrio de Lisboa\n",
    "- reviews: El numero de opiniones\n",
    "- overall_satisfaction: Puntuacion media del apartamento\n",
    "- accommodates: El numero de personas que se pueden alojar en la propiedad\n",
    "- bedrooms: El número de habitaciones\n",
    "- price: El precio (en euros) por noche"
   ]
  },
  {
   "cell_type": "code",
   "execution_count": 22,
   "metadata": {},
   "outputs": [
    {
     "name": "stdout",
     "output_type": "stream",
     "text": [
      "Primeras filas del DataFrame:\n",
      "   room_id  host_id        room_type       neighborhood  reviews  \\\n",
      "0     6499    14455  Entire home/apt              Belém        8   \n",
      "1    17031    66015  Entire home/apt           Alvalade        0   \n",
      "2    25659   107347  Entire home/apt  Santa Maria Maior       63   \n",
      "3    29248   125768  Entire home/apt  Santa Maria Maior      225   \n",
      "4    29396   126415  Entire home/apt  Santa Maria Maior      132   \n",
      "\n",
      "   overall_satisfaction  accommodates  bedrooms  price  \n",
      "0                   5.0             2       1.0   57.0  \n",
      "1                   0.0             2       1.0   46.0  \n",
      "2                   5.0             3       1.0   69.0  \n",
      "3                   4.5             4       1.0   58.0  \n",
      "4                   5.0             4       1.0   67.0  \n",
      "\n",
      "Información del DataFrame:\n",
      "<class 'pandas.core.frame.DataFrame'>\n",
      "RangeIndex: 13232 entries, 0 to 13231\n",
      "Data columns (total 9 columns):\n",
      " #   Column                Non-Null Count  Dtype  \n",
      "---  ------                --------------  -----  \n",
      " 0   room_id               13232 non-null  int64  \n",
      " 1   host_id               13232 non-null  int64  \n",
      " 2   room_type             13232 non-null  object \n",
      " 3   neighborhood          13232 non-null  object \n",
      " 4   reviews               13232 non-null  int64  \n",
      " 5   overall_satisfaction  13222 non-null  float64\n",
      " 6   accommodates          13232 non-null  int64  \n",
      " 7   bedrooms              13232 non-null  float64\n",
      " 8   price                 13232 non-null  float64\n",
      "dtypes: float64(3), int64(4), object(2)\n",
      "memory usage: 930.5+ KB\n",
      "None\n",
      "\n",
      "Estadísticas descriptivas:\n",
      "            room_id       host_id       reviews  overall_satisfaction  \\\n",
      "count  1.323200e+04  1.323200e+04  13232.000000          13222.000000   \n",
      "mean   1.055081e+07  3.616444e+07     29.130063              3.284677   \n",
      "std    6.069884e+06  3.706975e+07     42.802762              2.123236   \n",
      "min    6.499000e+03  1.445500e+04      0.000000              0.000000   \n",
      "25%    5.054848e+06  6.197930e+06      2.000000              0.000000   \n",
      "50%    1.166226e+07  2.207571e+07     11.000000              4.500000   \n",
      "75%    1.609631e+07  5.546697e+07     39.000000              5.000000   \n",
      "max    1.940072e+07  1.359156e+08    438.000000              5.000000   \n",
      "\n",
      "       accommodates      bedrooms         price  \n",
      "count  13232.000000  13232.000000  13232.000000  \n",
      "mean       3.917775      1.549501     86.592352  \n",
      "std        2.293757      1.062821    135.208926  \n",
      "min        1.000000      0.000000     10.000000  \n",
      "25%        2.000000      1.000000     45.000000  \n",
      "50%        4.000000      1.000000     64.000000  \n",
      "75%        5.000000      2.000000     93.000000  \n",
      "max       16.000000     10.000000   7496.000000  \n",
      "\n",
      "Número de entradas únicas en cada columna:\n",
      "room_id                 13232\n",
      "host_id                  6418\n",
      "room_type                   3\n",
      "neighborhood               24\n",
      "reviews                   267\n",
      "overall_satisfaction        9\n",
      "accommodates               16\n",
      "bedrooms                   11\n",
      "price                     282\n",
      "dtype: int64\n",
      "\n",
      "Propiedades en el barrio de Baixa:\n",
      "Empty DataFrame\n",
      "Columns: [room_id, host_id, room_type, neighborhood, reviews, overall_satisfaction, accommodates, bedrooms, price]\n",
      "Index: []\n",
      "\n",
      "Precio promedio por tipo de habitación:\n",
      "room_type\n",
      "Entire home/apt    101.338181\n",
      "Private room        45.629967\n",
      "Shared room         34.397661\n",
      "Name: price, dtype: float64\n"
     ]
    }
   ],
   "source": [
    "import pandas as pd\n",
    "\n",
    "# Cargar el archivo CSV en un DataFrame\n",
    "df_airbnb = pd.read_csv(\"./data/airbnb.csv\")\n",
    "\n",
    "# Ver las primeras filas del DataFrame\n",
    "print(\"Primeras filas del DataFrame:\")\n",
    "print(df_airbnb.head())\n",
    "\n",
    "# Ver la información general del DataFrame\n",
    "print(\"\\nInformación del DataFrame:\")\n",
    "print(df_airbnb.info())\n",
    "\n",
    "# Ver estadísticas descriptivas de las variables numéricas\n",
    "print(\"\\nEstadísticas descriptivas:\")\n",
    "print(df_airbnb.describe())\n",
    "\n",
    "# Contar el número de entradas únicas en cada columna\n",
    "print(\"\\nNúmero de entradas únicas en cada columna:\")\n",
    "print(df_airbnb.nunique())\n",
    "\n",
    "# Filtrar propiedades en un barrio específico (por ejemplo, \"Baixa\")\n",
    "baixa_properties = df_airbnb[df_airbnb['neighborhood'] == 'Baixa']\n",
    "print(\"\\nPropiedades en el barrio de Baixa:\")\n",
    "print(baixa_properties.head())\n",
    "\n",
    "# Calcular el precio promedio por tipo de habitación\n",
    "avg_price_by_room_type = df_airbnb.groupby('room_type')['price'].mean()\n",
    "print(\"\\nPrecio promedio por tipo de habitación:\")\n",
    "print(avg_price_by_room_type)\n"
   ]
  },
  {
   "cell_type": "markdown",
   "metadata": {},
   "source": [
    "## Usando Pandas"
   ]
  },
  {
   "cell_type": "markdown",
   "metadata": {},
   "source": [
    "### Caso 1.\n",
    "\n",
    "Alicia va a ir a Lisboa durante una semana con su marido y sus 2 hijos. Están buscando un apartamento con habitaciones separadas para los padres y los hijos. No les importa donde alojarse o el precio, simplemente quieren tener una experiencia agradable. Esto significa que solo aceptan lugares con más de 10 críticas con una puntuación mayor de 4. Cuando seleccionemos habitaciones para Alicia, tenemos que asegurarnos de ordenar las habitaciones de mejor a peor puntuación. Para aquellas habitaciones que tienen la misma puntuación, debemos mostrar antes aquellas con más críticas. Debemos darle 3 alternativas."
   ]
  },
  {
   "cell_type": "code",
   "execution_count": 2,
   "metadata": {},
   "outputs": [
    {
     "name": "stdout",
     "output_type": "stream",
     "text": [
      "Las tres mejores alternativas de alojamiento para Alicia y su familia en Lisboa son:\n",
      "     room_id   neighborhood  overall_satisfaction  reviews\n",
      "120   176153   Misericórdia                   5.0      438\n",
      "931  1085634   Misericórdia                   5.0      379\n",
      "212   299321  Santo António                   5.0      337\n"
     ]
    }
   ],
   "source": [
    "# Filtrar propiedades con más de 10 críticas y una puntuación mayor de 4\n",
    "filtered_properties = df_airbnb[(df_airbnb['reviews'] > 10) & (df_airbnb['overall_satisfaction'] > 4)]\n",
    "\n",
    "# Ordenar las propiedades por puntuación media y número de críticas en orden descendente\n",
    "sorted_properties = filtered_properties.sort_values(by=['overall_satisfaction', 'reviews'], ascending=[False, False])\n",
    "\n",
    "# Seleccionar las tres mejores alternativas\n",
    "top_3_alternatives = sorted_properties.head(3)\n",
    "\n",
    "# Mostrar las alternativas seleccionadas\n",
    "print(\"Las tres mejores alternativas de alojamiento para Alicia y su familia en Lisboa son:\")\n",
    "print(top_3_alternatives[['room_id', 'neighborhood', 'overall_satisfaction', 'reviews']])\n"
   ]
  },
  {
   "cell_type": "markdown",
   "metadata": {},
   "source": [
    "### Caso 2\n",
    "\n",
    "Roberto es un casero que tiene una casa en Airbnb. De vez en cuando nos llama preguntando sobre cuales son las críticas de su alojamiento. Hoy está particularmente enfadado, ya que su hermana Clara ha puesto una casa en Airbnb y Roberto quiere asegurarse de que su casa tiene más críticas que las de Clara. Tenemos que crear un dataframe con las propiedades de ambos. Las id de las casas de Roberto y Clara son 97503 y 90387  respectivamente. Finalmente guardamos este dataframe como excel llamado \"roberto.xls"
   ]
  },
  {
   "cell_type": "code",
   "execution_count": 18,
   "metadata": {},
   "outputs": [
    {
     "name": "stdout",
     "output_type": "stream",
     "text": [
      "Collecting openpyxl\n",
      "  Downloading openpyxl-3.1.2-py2.py3-none-any.whl.metadata (2.5 kB)\n",
      "Collecting et-xmlfile (from openpyxl)\n",
      "  Downloading et_xmlfile-1.1.0-py3-none-any.whl.metadata (1.8 kB)\n",
      "Downloading openpyxl-3.1.2-py2.py3-none-any.whl (249 kB)\n",
      "\u001b[2K   \u001b[90m━━━━━━━━━━━━━━━━━━━━━━━━━━━━━━━━━━━━━━━━\u001b[0m \u001b[32m250.0/250.0 kB\u001b[0m \u001b[31m4.9 MB/s\u001b[0m eta \u001b[36m0:00:00\u001b[0m:00:01\u001b[0m\n",
      "\u001b[?25hDownloading et_xmlfile-1.1.0-py3-none-any.whl (4.7 kB)\n",
      "Installing collected packages: et-xmlfile, openpyxl\n",
      "Successfully installed et-xmlfile-1.1.0 openpyxl-3.1.2\n"
     ]
    }
   ],
   "source": [
    "!pip install openpyxl"
   ]
  },
  {
   "cell_type": "code",
   "execution_count": 20,
   "metadata": {
    "tags": []
   },
   "outputs": [
    {
     "name": "stdout",
     "output_type": "stream",
     "text": [
      "El DataFrame con las propiedades de Roberto y Clara ha sido guardado como 'roberto.xls'\n"
     ]
    }
   ],
   "source": [
    "\n",
    "import pandas as pd\n",
    "from openpyxl import Workbook\n",
    "from openpyxl.utils.dataframe import dataframe_to_rows\n",
    "\n",
    "# Cargar el archivo CSV en un DataFrame\n",
    "df_airbnb = pd.read_csv(\"./data/airbnb.csv\")\n",
    "\n",
    "# Filtrar las propiedades de Roberto y Clara\n",
    "roberto_property = df_airbnb[df_airbnb['host_id'] == 97503]\n",
    "clara_property = df_airbnb[df_airbnb['host_id'] == 90387]\n",
    "\n",
    "# Concatenar los DataFrames de Roberto y Clara\n",
    "roberto_clara_properties = pd.concat([roberto_property, clara_property])\n",
    "\n",
    "# Crear un nuevo libro de trabajo de Excel\n",
    "wb = Workbook()\n",
    "ws = wb.active\n",
    "\n",
    "# Escribir el DataFrame en el libro de trabajo de Excel\n",
    "for row in dataframe_to_rows(roberto_clara_properties, index=False, header=True):\n",
    "    ws.append(row)\n",
    "\n",
    "# Guardar el archivo Excel\n",
    "wb.save(\"roberto.xls\")\n",
    "\n",
    "print(\"El DataFrame con las propiedades de Roberto y Clara ha sido guardado como 'roberto.xls'\")\n",
    "\n",
    "\n",
    "\n"
   ]
  },
  {
   "cell_type": "markdown",
   "metadata": {},
   "source": [
    "\n",
    "### Caso 3\n",
    "\n",
    "Diana va a Lisboa a pasar 3 noches y quiere conocer a gente nueva. Tiene un presupuesto de 50€ para su alojamiento. Debemos buscarle las 10 propiedades más baratas, dandole preferencia a aquellas que sean habitaciones compartidas *(room_type == Shared room)*, y para aquellas viviendas compartidas debemos elegir aquellas con mejor puntuación."
   ]
  },
  {
   "cell_type": "code",
   "execution_count": 21,
   "metadata": {
    "tags": []
   },
   "outputs": [
    {
     "name": "stdout",
     "output_type": "stream",
     "text": [
      "Las 10 propiedades más baratas para Diana en Lisboa son:\n",
      "        room_id       neighborhood    room_type  price  overall_satisfaction\n",
      "1010    1179457      Santo António  Shared room   10.0                   4.0\n",
      "3562    5557699  Santa Maria Maior  Shared room   10.0                   4.0\n",
      "7584   13116032            Arroios  Shared room   10.0                   0.0\n",
      "13148  19314160        Santa Clara  Shared room   10.0                   0.0\n",
      "9065   14933182      Santo António  Shared room   11.0                   5.0\n",
      "4353    6728244  Santa Maria Maior  Shared room   11.0                   4.5\n",
      "5616    9317561            Arroios  Shared room   11.0                   4.5\n",
      "6640   11693356  Santa Maria Maior  Shared room   11.0                   4.5\n",
      "6641   11693442  Santa Maria Maior  Shared room   11.0                   4.5\n",
      "8908   14708916      Santo António  Shared room   11.0                   4.5\n"
     ]
    }
   ],
   "source": [
    "import pandas as pd\n",
    "\n",
    "# Cargar el archivo CSV en un DataFrame\n",
    "df_airbnb = pd.read_csv(\"./data/airbnb.csv\")\n",
    "\n",
    "# Filtrar propiedades dentro del presupuesto de Diana\n",
    "budget_properties = df_airbnb[df_airbnb['price'] <= 50]\n",
    "\n",
    "# Filtrar propiedades que sean habitaciones compartidas (Shared room)\n",
    "shared_rooms = budget_properties[budget_properties['room_type'] == 'Shared room']\n",
    "\n",
    "# Ordenar las habitaciones compartidas por precio y puntuación media en orden ascendente\n",
    "sorted_shared_rooms = shared_rooms.sort_values(by=['price', 'overall_satisfaction'], ascending=[True, False])\n",
    "\n",
    "# Si hay menos de 10 habitaciones compartidas, completamos con viviendas completas (Entire home/apt)\n",
    "if len(sorted_shared_rooms) < 10:\n",
    "    remaining_properties = budget_properties[budget_properties['room_type'] == 'Entire home/apt']\n",
    "    sorted_remaining_properties = remaining_properties.sort_values(by=['price'], ascending=True)\n",
    "    # Agregamos las viviendas completas restantes al DataFrame de habitaciones compartidas\n",
    "    sorted_shared_rooms = pd.concat([sorted_shared_rooms, sorted_remaining_properties.head(10 - len(sorted_shared_rooms))])\n",
    "\n",
    "# Tomar las primeras 10 propiedades\n",
    "top_10_properties = sorted_shared_rooms.head(10)\n",
    "\n",
    "# Mostrar las 10 propiedades más baratas para Diana\n",
    "print(\"Las 10 propiedades más baratas para Diana en Lisboa son:\")\n",
    "print(top_10_properties[['room_id', 'neighborhood', 'room_type', 'price', 'overall_satisfaction']])\n"
   ]
  }
 ],
 "metadata": {
  "kernelspec": {
   "display_name": "Python 3 (ipykernel)",
   "language": "python",
   "name": "python3"
  },
  "language_info": {
   "codemirror_mode": {
    "name": "ipython",
    "version": 3
   },
   "file_extension": ".py",
   "mimetype": "text/x-python",
   "name": "python",
   "nbconvert_exporter": "python",
   "pygments_lexer": "ipython3",
   "version": "3.10.13"
  }
 },
 "nbformat": 4,
 "nbformat_minor": 4
}
